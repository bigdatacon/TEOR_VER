{
 "cells": [
  {
   "cell_type": "code",
   "execution_count": 1,
   "metadata": {},
   "outputs": [
    {
     "data": {
      "text/plain": [
       "58905"
      ]
     },
     "execution_count": 1,
     "metadata": {},
     "output_type": "execute_result"
    }
   ],
   "source": [
    "from math import factorial\n",
    "def combinations(n, k):\n",
    "    return int(factorial(n) / (factorial(k) * factorial(n - k)))\n",
    "def arrangements(n, k):\n",
    "    return int(factorial(n) / factorial(n - k))\n",
    "def permutations(n):\n",
    "    return int(factorial(n))\n",
    "combinations(36, 4)"
   ]
  },
  {
   "cell_type": "markdown",
   "metadata": {},
   "source": [
    "Вероятность того, что стрелок попадет в мишень, выстрелив один раз, равна 0.8. Стрелок выстрелил 100 раз. Найдите вероятность того, что стрелок попадет в цель ровно 85 раз."
   ]
  },
  {
   "cell_type": "code",
   "execution_count": 2,
   "metadata": {},
   "outputs": [
    {
     "data": {
      "text/plain": [
       "253338471349988640"
      ]
     },
     "execution_count": 2,
     "metadata": {},
     "output_type": "execute_result"
    }
   ],
   "source": [
    "s1 = combinations(100,85)\n",
    "s1"
   ]
  },
  {
   "cell_type": "code",
   "execution_count": 3,
   "metadata": {},
   "outputs": [
    {
     "data": {
      "text/plain": [
       "5.789604461865837e-09"
      ]
     },
     "execution_count": 3,
     "metadata": {},
     "output_type": "execute_result"
    }
   ],
   "source": [
    "p2 = 0.8**85\n",
    "p2"
   ]
  },
  {
   "cell_type": "code",
   "execution_count": 4,
   "metadata": {},
   "outputs": [
    {
     "data": {
      "text/plain": [
       "3.276800000000003e-11"
      ]
     },
     "execution_count": 4,
     "metadata": {},
     "output_type": "execute_result"
    }
   ],
   "source": [
    "q2 = 0.2**15\n",
    "q2"
   ]
  },
  {
   "cell_type": "code",
   "execution_count": 5,
   "metadata": {},
   "outputs": [
    {
     "data": {
      "text/plain": [
       "0.048061793700746556"
      ]
     },
     "execution_count": 5,
     "metadata": {},
     "output_type": "execute_result"
    }
   ],
   "source": [
    "p = s1*p2*q2\n",
    "p"
   ]
  },
  {
   "cell_type": "markdown",
   "metadata": {},
   "source": [
    "Вероятность того, что лампочка перегорит в течение первого дня эксплуатации, равна 0.0004. В жилом комплексе после ремонта в один день включили 5000 новых лампочек. Какова вероятность, что ни одна из них не перегорит в первый день? Какова вероятность, что перегорят ровно две?\n"
   ]
  },
  {
   "cell_type": "code",
   "execution_count": 6,
   "metadata": {},
   "outputs": [
    {
     "data": {
      "text/plain": [
       "2.0"
      ]
     },
     "execution_count": 6,
     "metadata": {},
     "output_type": "execute_result"
    }
   ],
   "source": [
    "###перегорит только 0 лампачек\n",
    "p = 0.0004\n",
    "e=2.72\n",
    "m_0 = 0\n",
    "n = 5000\n",
    "y_0 = p*n\n",
    "y_0"
   ]
  },
  {
   "cell_type": "code",
   "execution_count": 7,
   "metadata": {},
   "outputs": [
    {
     "data": {
      "text/plain": [
       "0.13516435986159167"
      ]
     },
     "execution_count": 7,
     "metadata": {},
     "output_type": "execute_result"
    }
   ],
   "source": [
    "p_0 = ((y_0**m_0)/(factorial(m_0)))*e**(-y_0)\n",
    "p_0\n"
   ]
  },
  {
   "cell_type": "code",
   "execution_count": 8,
   "metadata": {},
   "outputs": [
    {
     "data": {
      "text/plain": [
       "2.0"
      ]
     },
     "execution_count": 8,
     "metadata": {},
     "output_type": "execute_result"
    }
   ],
   "source": [
    "###перегорит только 2\n",
    "p = 0.0004\n",
    "m = 2\n",
    "n = 5000\n",
    "y = p*n\n",
    "y"
   ]
  },
  {
   "cell_type": "code",
   "execution_count": 9,
   "metadata": {},
   "outputs": [
    {
     "data": {
      "text/plain": [
       "0.27032871972318334"
      ]
     },
     "execution_count": 9,
     "metadata": {},
     "output_type": "execute_result"
    }
   ],
   "source": [
    "e=2.72\n",
    "p_2 = (((y**m)/factorial(m)))*(e**(-y))\n",
    "p_2 "
   ]
  },
  {
   "cell_type": "markdown",
   "metadata": {},
   "source": [
    "Монету подбросили 144 раза. Какова вероятность, что орел выпадет ровно 70 раз?"
   ]
  },
  {
   "cell_type": "code",
   "execution_count": 10,
   "metadata": {},
   "outputs": [
    {
     "data": {
      "text/plain": [
       "1400749509083708712353342007350408066891776"
      ]
     },
     "execution_count": 10,
     "metadata": {},
     "output_type": "execute_result"
    }
   ],
   "source": [
    "s2 = combinations(144,70)\n",
    "s2"
   ]
  },
  {
   "cell_type": "code",
   "execution_count": 11,
   "metadata": {},
   "outputs": [
    {
     "data": {
      "text/plain": [
       "8.470329472543003e-22"
      ]
     },
     "execution_count": 11,
     "metadata": {},
     "output_type": "execute_result"
    }
   ],
   "source": [
    "p_or = 0.5\n",
    "p_or_k = p_or**70\n",
    "p_or_k"
   ]
  },
  {
   "cell_type": "code",
   "execution_count": 12,
   "metadata": {},
   "outputs": [
    {
     "data": {
      "text/plain": [
       "5.293955920339377e-23"
      ]
     },
     "execution_count": 12,
     "metadata": {},
     "output_type": "execute_result"
    }
   ],
   "source": [
    "p_or_q = p_or**74\n",
    "p_or_q"
   ]
  },
  {
   "cell_type": "code",
   "execution_count": 13,
   "metadata": {},
   "outputs": [
    {
     "data": {
      "text/plain": [
       "0.06281178035144776"
      ]
     },
     "execution_count": 13,
     "metadata": {},
     "output_type": "execute_result"
    }
   ],
   "source": [
    "P = s2*p_or_k*p_or_q\n",
    "P"
   ]
  },
  {
   "cell_type": "markdown",
   "metadata": {},
   "source": [
    "В первом ящике находится 10 мячей, из которых 7 - белые. Во втором ящике - 11 мячей, из которых 9 белых. Из каждого ящика вытаскивают случайным образом по два мяча. Какова вероятность того, что все мячи белые? Какова вероятность того, что ровно два мяча белые? Какова вероятность того, что хотя бы один мяч белый?"
   ]
  },
  {
   "cell_type": "markdown",
   "metadata": {},
   "source": [
    "# Какова вероятность того, что все мячи белые?"
   ]
  },
  {
   "cell_type": "code",
   "execution_count": 14,
   "metadata": {},
   "outputs": [
    {
     "data": {
      "text/plain": [
       "0.48999999999999994"
      ]
     },
     "execution_count": 14,
     "metadata": {},
     "output_type": "execute_result"
    }
   ],
   "source": [
    "p_1 = 7/10\n",
    "q_1  = 1 - p_1\n",
    "\n",
    "\n",
    "#### То что все мячи из 1 ящика белые \n",
    "n_1_1 = 2\n",
    "k_1_1 = 2\n",
    "\n",
    "c_1 = combinations(n_1_1,k_1_1)*(p_1**k_1_1)*(q_1**(n_1_1-k_1_1))\n",
    "c_1\n"
   ]
  },
  {
   "cell_type": "code",
   "execution_count": 15,
   "metadata": {},
   "outputs": [
    {
     "data": {
      "text/plain": [
       "0.6694214876033059"
      ]
     },
     "execution_count": 15,
     "metadata": {},
     "output_type": "execute_result"
    }
   ],
   "source": [
    "#### То что все мячи из 2 ящика белые \n",
    "n_1_2 = 2\n",
    "k_1_2 = 2\n",
    "p_2 = 9/11\n",
    "q_2 = 1-p_2\n",
    "\n",
    "c_2 = combinations(n_1_2, k_1_2)*(p_2**k_1_2)*(q_2**(n_1_2-k_1_2))\n",
    "c_2"
   ]
  },
  {
   "cell_type": "code",
   "execution_count": 16,
   "metadata": {},
   "outputs": [
    {
     "data": {
      "text/plain": [
       "0.32801652892561983"
      ]
     },
     "execution_count": 16,
     "metadata": {},
     "output_type": "execute_result"
    }
   ],
   "source": [
    "#### Общая вероятность что будут все мячи белые\n",
    "P_obs = c_1*c_2\n",
    "P_obs"
   ]
  },
  {
   "cell_type": "markdown",
   "metadata": {},
   "source": [
    "# Какова вероятность того, что ровно два мяча белые?"
   ]
  },
  {
   "cell_type": "code",
   "execution_count": 17,
   "metadata": {},
   "outputs": [
    {
     "data": {
      "text/plain": [
       "0.42000000000000004"
      ]
     },
     "execution_count": 17,
     "metadata": {},
     "output_type": "execute_result"
    }
   ],
   "source": [
    "n_1_1 = 2\n",
    "k_1_odin = 1\n",
    "\n",
    "c_1_odin = combinations(n_1_1,k_1_odin)*(p_1**k_1_odin)*(q_1**(n_1_1-k_1_odin))\n",
    "c_1_odin"
   ]
  },
  {
   "cell_type": "code",
   "execution_count": 18,
   "metadata": {},
   "outputs": [
    {
     "data": {
      "text/plain": [
       "0.29752066115702475"
      ]
     },
     "execution_count": 18,
     "metadata": {},
     "output_type": "execute_result"
    }
   ],
   "source": [
    "n_1_2 = 2\n",
    "k_1_odin = 1\n",
    "c_2_odin = combinations(n_1_2, k_1_odin)*(p_2**k_1_odin)*(q_2**(n_1_2-k_1_odin))\n",
    "c_2_odin"
   ]
  },
  {
   "cell_type": "code",
   "execution_count": 19,
   "metadata": {},
   "outputs": [
    {
     "data": {
      "text/plain": [
       "0.3043801652892563"
      ]
     },
     "execution_count": 19,
     "metadata": {},
     "output_type": "execute_result"
    }
   ],
   "source": [
    "P_obs_2_belih = c_1_odin*c_2_odin + c_2 - c_1\n",
    "P_obs_2_belih\n"
   ]
  },
  {
   "cell_type": "code",
   "execution_count": 20,
   "metadata": {},
   "outputs": [],
   "source": [
    "### То что 2 мяча могут быть белыми может быть в 3 случаях: из каждой корзины по 1 белому, только из 1 корзины 2 былых а из второй 0, только из\n",
    "##второй 2 белых а из первой 0, найдем вероятнсоти для каждого сценария"
   ]
  },
  {
   "cell_type": "code",
   "execution_count": 21,
   "metadata": {},
   "outputs": [
    {
     "data": {
      "text/plain": [
       "0.016198347107438015"
      ]
     },
     "execution_count": 21,
     "metadata": {},
     "output_type": "execute_result"
    }
   ],
   "source": [
    "#A) Вероятность что из 1 корзины 2 белых а из второй о: \n",
    "## Найдем вероятность что из 1 корзины только черные:\n",
    "p_1_chern = 3/10\n",
    "q_1_chern  = 1 - p_1\n",
    "n_1_chern = 2\n",
    "k_1_chern = 2\n",
    "\n",
    "c_1_chern = combinations(n_1_chern,k_1_chern)*(p_1_chern**k_1_chern)*(q_1_chern**(n_1_chern-k_1_chern))\n",
    "c_1_chern\n",
    "### Найдем вероятность что из второй корзины все черыне:\n",
    "p_2_chern = 2/11\n",
    "q_2_chern  = 1 - p_2_chern\n",
    "n_2_chern = 2\n",
    "k_2_chern = 2\n",
    "\n",
    "c_2_chern = combinations(n_2_chern,k_2_chern)*(p_2_chern**k_2_chern)*(q_2_chern**(n_2_chern-k_2_chern))\n",
    "c_2_chern\n",
    "\n",
    "### ИТОГО Вероятность что из 1 корзины все белые а из второй все черные равна\n",
    "p_iz_1_vse_bel_iz_vtor_vse_chern = c_1*c_2_chern\n",
    "p_iz_1_vse_bel_iz_vtor_vse_chern"
   ]
  },
  {
   "cell_type": "code",
   "execution_count": 22,
   "metadata": {},
   "outputs": [
    {
     "data": {
      "text/plain": [
       "0.06024793388429753"
      ]
     },
     "execution_count": 22,
     "metadata": {},
     "output_type": "execute_result"
    }
   ],
   "source": [
    "### Найдем вероятности что все мячи из 1 корзины черные а из второй оба белые:\n",
    "p_iz_2_vse_bel_iz_perv_vse_chern = c_1_chern*c_2\n",
    "p_iz_2_vse_bel_iz_perv_vse_chern"
   ]
  },
  {
   "cell_type": "markdown",
   "metadata": {},
   "source": [
    "# Итого вероятность что ровно 2 мяча белые это сумма вероятностей 3 сценариев описанных выше:\n"
   ]
  },
  {
   "cell_type": "code",
   "execution_count": 23,
   "metadata": {},
   "outputs": [
    {
     "data": {
      "text/plain": [
       "0.3808264462809919"
      ]
     },
     "execution_count": 23,
     "metadata": {},
     "output_type": "execute_result"
    }
   ],
   "source": [
    "p_rovno_2_mycha= p_iz_2_vse_bel_iz_perv_vse_chern+ p_iz_1_vse_bel_iz_vtor_vse_chern+P_obs_2_belih\n",
    "p_rovno_2_mycha"
   ]
  },
  {
   "cell_type": "markdown",
   "metadata": {},
   "source": [
    "# Какова вероятность того, что хотя бы один мяч белый?"
   ]
  },
  {
   "cell_type": "code",
   "execution_count": 24,
   "metadata": {},
   "outputs": [
    {
     "data": {
      "text/plain": [
       "0.91"
      ]
     },
     "execution_count": 24,
     "metadata": {},
     "output_type": "execute_result"
    }
   ],
   "source": [
    "#### рассчитываем вероятность что все мячи не белые для каждой корзины\n",
    "p_1_chern = 3/10\n",
    "q_1_chern  = 1 - p_1\n",
    "n_1_chern = 2\n",
    "k_1_chern = 2\n",
    "\n",
    "c_1_chern = combinations(n_1_chern,k_1_chern)*(p_1_chern**k_1_chern)*(q_1_chern**(n_1_chern-k_1_chern))\n",
    "c_1_chern\n",
    "c_1_hot_1_bel = 1 - c_1_chern\n",
    "c_1_hot_1_bel"
   ]
  },
  {
   "cell_type": "code",
   "execution_count": 25,
   "metadata": {},
   "outputs": [
    {
     "data": {
      "text/plain": [
       "0.9669421487603306"
      ]
     },
     "execution_count": 25,
     "metadata": {},
     "output_type": "execute_result"
    }
   ],
   "source": [
    "p_2_chern = 2/11\n",
    "q_2_chern  = 1 - p_2_chern\n",
    "n_2_chern = 2\n",
    "k_2_chern = 2\n",
    "\n",
    "c_2_chern = combinations(n_2_chern,k_2_chern)*(p_2_chern**k_2_chern)*(q_2_chern**(n_2_chern-k_2_chern))\n",
    "c_2_chern\n",
    "c_2_hot_1_bel = 1 - c_2_chern\n",
    "c_2_hot_1_bel"
   ]
  },
  {
   "cell_type": "code",
   "execution_count": 26,
   "metadata": {},
   "outputs": [
    {
     "data": {
      "text/plain": [
       "0.9970247933884298"
      ]
     },
     "execution_count": 26,
     "metadata": {},
     "output_type": "execute_result"
    }
   ],
   "source": [
    "С_obsh_hotyabi_1_bel = 1-c_2_chern*c_1_chern\n",
    "С_obsh_hotyabi_1_bel"
   ]
  },
  {
   "cell_type": "code",
   "execution_count": null,
   "metadata": {},
   "outputs": [],
   "source": []
  }
 ],
 "metadata": {
  "kernelspec": {
   "display_name": "Python 3",
   "language": "python",
   "name": "python3"
  },
  "language_info": {
   "codemirror_mode": {
    "name": "ipython",
    "version": 3
   },
   "file_extension": ".py",
   "mimetype": "text/x-python",
   "name": "python",
   "nbconvert_exporter": "python",
   "pygments_lexer": "ipython3",
   "version": "3.7.3"
  }
 },
 "nbformat": 4,
 "nbformat_minor": 2
}
